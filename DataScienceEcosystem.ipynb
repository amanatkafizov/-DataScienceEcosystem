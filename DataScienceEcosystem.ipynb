{
  "nbformat": 4,
  "nbformat_minor": 0,
  "metadata": {
    "colab": {
      "provenance": []
    },
    "kernelspec": {
      "name": "python3",
      "display_name": "Python 3"
    },
    "language_info": {
      "name": "python"
    }
  },
  "cells": [
    {
      "cell_type": "markdown",
      "source": [
        "# Data Science Tools and Ecosystem\n",
        "In this notebook, Data Science Tools and Ecosystem are summarized."
      ],
      "metadata": {
        "id": "6Jz_yJxxGzjZ"
      }
    },
    {
      "cell_type": "markdown",
      "source": [
        "<b>Objectives<b>:\n",
        "\n",
        "-  Some of the popular languages that Data Scientists use\n",
        "\n",
        "-  Some of the commonly used libraries used by Data Scientists\n",
        "\n",
        "-  Evaluating Arithmetic expressions"
      ],
      "metadata": {
        "id": "p0nSekYIKOme"
      }
    },
    {
      "cell_type": "markdown",
      "source": [
        "Some of the popular languages that Data Scientists use are:\n",
        "1. Python\n",
        "2. R\n",
        "3. JaVA\n",
        "\n"
      ],
      "metadata": {
        "id": "2c1f5YX6HmWq"
      }
    },
    {
      "cell_type": "markdown",
      "source": [
        "Some of the commonly used libraries used by Data Scientists include:\n",
        "1. PyTorch\n",
        "2. TensorFlow\n",
        "3. Pandas"
      ],
      "metadata": {
        "id": "HNfGzOADH9wC"
      }
    },
    {
      "cell_type": "markdown",
      "source": [
        "|Data Science Tools|\n",
        "|------------------|\n",
        "|RStudio|\n",
        "|Apache Spark|\n",
        "|Apache Hadoop|"
      ],
      "metadata": {
        "id": "rjdqgix6IOdC"
      }
    },
    {
      "cell_type": "markdown",
      "source": [
        "### Below are a few examples of evaluating arithmetic expressions in Python\n"
      ],
      "metadata": {
        "id": "UmjNRUXoI4bs"
      }
    },
    {
      "cell_type": "code",
      "source": [
        "# This a simple arithmetic expression to mutiply then add integers\n",
        "(3*4)+5"
      ],
      "metadata": {
        "colab": {
          "base_uri": "https://localhost:8080/"
        },
        "id": "cuIl98_6JYwV",
        "outputId": "2f3cbf24-8802-4f68-9a43-0d7c47c4dc6d"
      },
      "execution_count": 1,
      "outputs": [
        {
          "output_type": "execute_result",
          "data": {
            "text/plain": [
              "17"
            ]
          },
          "metadata": {},
          "execution_count": 1
        }
      ]
    },
    {
      "cell_type": "code",
      "source": [
        "#This will convert 200 minutes to hours by diving by 60.\n",
        "minutes = 200\n",
        "print(\"%02d:%02d\" % (divmod(minutes, 60)))"
      ],
      "metadata": {
        "colab": {
          "base_uri": "https://localhost:8080/"
        },
        "id": "efJ3-cg0Jd5k",
        "outputId": "e3271105-911f-4b17-c95e-aea0ebc331c9"
      },
      "execution_count": 2,
      "outputs": [
        {
          "output_type": "stream",
          "name": "stdout",
          "text": [
            "03:20\n"
          ]
        }
      ]
    },
    {
      "cell_type": "markdown",
      "source": [
        "## Author\n",
        "Amanat Kafizov"
      ],
      "metadata": {
        "id": "WGEPJX4VK6c4"
      }
    }
  ]
}